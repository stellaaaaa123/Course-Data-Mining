{
  "nbformat": 4,
  "nbformat_minor": 0,
  "metadata": {
    "colab": {
      "provenance": [],
      "machine_shape": "hm",
      "gpuType": "T4"
    },
    "kernelspec": {
      "name": "python3",
      "display_name": "Python 3"
    },
    "language_info": {
      "name": "python"
    },
    "accelerator": "GPU"
  },
  "cells": [
    {
      "cell_type": "code",
      "execution_count": 1,
      "metadata": {
        "colab": {
          "base_uri": "https://localhost:8080/"
        },
        "id": "9YZU9-dqViVE",
        "outputId": "20198be9-4baa-4dcd-aace-23a38c37f140"
      },
      "outputs": [
        {
          "output_type": "stream",
          "name": "stdout",
          "text": [
            "Mounted at /content/drive\n"
          ]
        }
      ],
      "source": [
        "from google.colab import drive\n",
        "drive.mount('/content/drive')"
      ]
    },
    {
      "cell_type": "code",
      "source": [
        "import pandas as pd\n",
        "import numpy as np\n",
        "import os\n",
        "import cv2\n",
        "from keras.utils import to_categorical\n",
        "import math"
      ],
      "metadata": {
        "id": "ZFMyBKMWluw_"
      },
      "execution_count": 2,
      "outputs": []
    },
    {
      "cell_type": "code",
      "source": [
        "# Load and preprocess tags\n",
        "train_tag = pd.read_csv('/content/drive/MyDrive/Colab Notebooks/5002/data/Data_Q3/tarin_tag.txt', sep=\",\", header=None)\n",
        "train_tag.columns = [\"video\", \"tag\"]\n",
        "train_tag['tag'] = to_categorical(train_tag['tag']).tolist()"
      ],
      "metadata": {
        "id": "EtZWobv0deh_"
      },
      "execution_count": 3,
      "outputs": []
    },
    {
      "cell_type": "code",
      "source": [
        "# Function to load and process video\n",
        "def process_video(file_path, frame_size, frame_count):\n",
        "    cap = cv2.VideoCapture(file_path)\n",
        "    frames = []\n",
        "    while True:\n",
        "        ret, frame = cap.read()\n",
        "        if not ret:\n",
        "            break\n",
        "        frame = cv2.resize(frame, frame_size, interpolation=cv2.INTER_CUBIC)\n",
        "        frames.append(frame)\n",
        "    cap.release()\n",
        "\n",
        "    frames = np.array(frames)\n",
        "    if len(frames) < frame_count:\n",
        "        last_frame = frames[-1]\n",
        "        while len(frames) < frame_count:\n",
        "            frames = np.append(frames, [last_frame], axis=0)\n",
        "    else:\n",
        "        frame_indices = np.round(np.linspace(0, len(frames) - 1, frame_count)).astype(int)\n",
        "        frames = frames[frame_indices]\n",
        "\n",
        "    return frames"
      ],
      "metadata": {
        "id": "c8dlFm0tsLih"
      },
      "execution_count": 4,
      "outputs": []
    },
    {
      "cell_type": "code",
      "source": [
        "img_size = (60, 60)\n",
        "frame_count = 20\n",
        "video_path = '/content/drive/MyDrive/Colab Notebooks/5002/data/Data_Q3/train_video/'"
      ],
      "metadata": {
        "id": "7aksCvYGd4nM"
      },
      "execution_count": 5,
      "outputs": []
    },
    {
      "cell_type": "code",
      "source": [
        "x, y = [], []\n",
        "for filename in os.listdir(video_path):\n",
        "    if filename.endswith(\".mp4\"):\n",
        "        video_frames = process_video(os.path.join(video_path, filename), img_size, frame_count)\n",
        "        x.append(video_frames)\n",
        "        tag = train_tag[train_tag['video'] == filename]['tag'].values[0]\n",
        "        y.append(tag)\n",
        "x, y = np.array(x), np.array(y)"
      ],
      "metadata": {
        "id": "kdM5V2Qrmz8h"
      },
      "execution_count": 6,
      "outputs": []
    },
    {
      "cell_type": "code",
      "source": [
        "x.shape"
      ],
      "metadata": {
        "colab": {
          "base_uri": "https://localhost:8080/"
        },
        "id": "iqQzgCDum1X4",
        "outputId": "04c61ad6-0246-4fd9-eb21-01babdf1967d"
      },
      "execution_count": 7,
      "outputs": [
        {
          "output_type": "execute_result",
          "data": {
            "text/plain": [
              "(2063, 20, 60, 60, 3)"
            ]
          },
          "metadata": {},
          "execution_count": 7
        }
      ]
    },
    {
      "cell_type": "code",
      "source": [
        "y.shape"
      ],
      "metadata": {
        "colab": {
          "base_uri": "https://localhost:8080/"
        },
        "id": "flrc3rUbm9r4",
        "outputId": "10563b5e-66ad-4a67-9e89-e6a5cd61c918"
      },
      "execution_count": 8,
      "outputs": [
        {
          "output_type": "execute_result",
          "data": {
            "text/plain": [
              "(2063, 15)"
            ]
          },
          "metadata": {},
          "execution_count": 8
        }
      ]
    },
    {
      "cell_type": "code",
      "source": [
        "# Splitting dataset\n",
        "from sklearn.model_selection import train_test_split\n",
        "x_train, x_test, y_train, y_test = train_test_split(x, y, test_size=0.2, random_state=42)"
      ],
      "metadata": {
        "id": "9bHHixX1eCKh"
      },
      "execution_count": 9,
      "outputs": []
    },
    {
      "cell_type": "code",
      "source": [
        "print('x_train shape:', x_train.shape)\n",
        "print('y_train shape:', y_train.shape)\n",
        "print('x_test shape:', x_test.shape)\n",
        "print('y_test shape:', y_test.shape)"
      ],
      "metadata": {
        "colab": {
          "base_uri": "https://localhost:8080/"
        },
        "id": "4sPRsYN4m-sJ",
        "outputId": "765d0080-5971-42c2-b25b-7bf0d0612c30"
      },
      "execution_count": 10,
      "outputs": [
        {
          "output_type": "stream",
          "name": "stdout",
          "text": [
            "x_train shape: (1650, 20, 60, 60, 3)\n",
            "y_train shape: (1650, 15)\n",
            "x_test shape: (413, 20, 60, 60, 3)\n",
            "y_test shape: (413, 15)\n"
          ]
        }
      ]
    },
    {
      "cell_type": "code",
      "source": [
        "from keras.applications.vgg16 import VGG16\n",
        "import tensorflow\n",
        "from keras.models import Sequential\n",
        "from keras.models import Model\n",
        "from keras.layers import TimeDistributed, LSTM, Flatten, Dense, Dropout, Input\n",
        "from keras.regularizers import l2\n",
        "\n",
        "# Define the input layer\n",
        "input_shape = (20, 60, 60, 3)  # (frames, height, width, channels)\n",
        "input_layer = Input(shape=input_shape)\n",
        "\n",
        "# Load the pre-trained VGG16 model\n",
        "base_model = VGG16(weights='imagenet', include_top=False, input_shape=(60, 60, 3))\n",
        "\n",
        "# Freeze the layers of the VGG16 model\n",
        "for layer in base_model.layers:\n",
        "    layer.trainable = False\n",
        "\n",
        "# Build the model\n",
        "model = Sequential()\n",
        "model.add(TimeDistributed(base_model, input_shape=input_shape))\n",
        "model.add(TimeDistributed(Flatten()))\n",
        "\n",
        "# LSTM\n",
        "model.add(LSTM(256, return_sequences=False))\n",
        "\n",
        "#Fully connected layer with L2 regularization\n",
        "model.add(Dense(64, activation='relu', kernel_regularizer=l2(0.001)))\n",
        "model.add(Dropout(0.6))\n",
        "\n",
        "# Output layer\n",
        "model.add(Dense(15, activation='softmax'))\n",
        "model.compile(optimizer='adam', loss='categorical_crossentropy', metrics=['accuracy'])\n",
        "\n",
        "model.summary()"
      ],
      "metadata": {
        "colab": {
          "base_uri": "https://localhost:8080/"
        },
        "id": "gjYAVz2jtkRz",
        "outputId": "c119f3cc-2f43-404e-89f0-0c57273c1fe1"
      },
      "execution_count": 55,
      "outputs": [
        {
          "output_type": "stream",
          "name": "stdout",
          "text": [
            "Model: \"sequential_10\"\n",
            "_________________________________________________________________\n",
            " Layer (type)                Output Shape              Param #   \n",
            "=================================================================\n",
            " time_distributed_20 (TimeD  (None, 20, 1, 1, 512)     14714688  \n",
            " istributed)                                                     \n",
            "                                                                 \n",
            " time_distributed_21 (TimeD  (None, 20, 512)           0         \n",
            " istributed)                                                     \n",
            "                                                                 \n",
            " lstm_10 (LSTM)              (None, 256)               787456    \n",
            "                                                                 \n",
            " dense_20 (Dense)            (None, 64)                16448     \n",
            "                                                                 \n",
            " dropout_10 (Dropout)        (None, 64)                0         \n",
            "                                                                 \n",
            " dense_21 (Dense)            (None, 15)                975       \n",
            "                                                                 \n",
            "=================================================================\n",
            "Total params: 15519567 (59.20 MB)\n",
            "Trainable params: 804879 (3.07 MB)\n",
            "Non-trainable params: 14714688 (56.13 MB)\n",
            "_________________________________________________________________\n"
          ]
        }
      ]
    },
    {
      "cell_type": "code",
      "source": [
        "history =model.fit(x_train, y_train, epochs=30, validation_data=(x_test, y_test))"
      ],
      "metadata": {
        "colab": {
          "base_uri": "https://localhost:8080/"
        },
        "id": "NI25X5w6w1pv",
        "outputId": "c4443630-aefa-49d0-ba0c-9bd2d25e87df"
      },
      "execution_count": 56,
      "outputs": [
        {
          "output_type": "stream",
          "name": "stdout",
          "text": [
            "Epoch 1/30\n",
            "52/52 [==============================] - 17s 274ms/step - loss: 2.7322 - accuracy: 0.1624 - val_loss: 2.3667 - val_accuracy: 0.3002\n",
            "Epoch 2/30\n",
            "52/52 [==============================] - 13s 245ms/step - loss: 2.1688 - accuracy: 0.3412 - val_loss: 2.0476 - val_accuracy: 0.4044\n",
            "Epoch 3/30\n",
            "52/52 [==============================] - 13s 245ms/step - loss: 1.7490 - accuracy: 0.4867 - val_loss: 1.7706 - val_accuracy: 0.4939\n",
            "Epoch 4/30\n",
            "52/52 [==============================] - 13s 243ms/step - loss: 1.4766 - accuracy: 0.5685 - val_loss: 1.6359 - val_accuracy: 0.5424\n",
            "Epoch 5/30\n",
            "52/52 [==============================] - 13s 242ms/step - loss: 1.1446 - accuracy: 0.6855 - val_loss: 1.5157 - val_accuracy: 0.5593\n",
            "Epoch 6/30\n",
            "52/52 [==============================] - 12s 241ms/step - loss: 1.0052 - accuracy: 0.7230 - val_loss: 1.4296 - val_accuracy: 0.5981\n",
            "Epoch 7/30\n",
            "52/52 [==============================] - 12s 241ms/step - loss: 0.8372 - accuracy: 0.7770 - val_loss: 1.3934 - val_accuracy: 0.5908\n",
            "Epoch 8/30\n",
            "52/52 [==============================] - 12s 241ms/step - loss: 0.6768 - accuracy: 0.8364 - val_loss: 1.4141 - val_accuracy: 0.6029\n",
            "Epoch 9/30\n",
            "52/52 [==============================] - 12s 241ms/step - loss: 0.5502 - accuracy: 0.8800 - val_loss: 1.3701 - val_accuracy: 0.6102\n",
            "Epoch 10/30\n",
            "52/52 [==============================] - 13s 241ms/step - loss: 0.4593 - accuracy: 0.9018 - val_loss: 1.3598 - val_accuracy: 0.6295\n",
            "Epoch 11/30\n",
            "52/52 [==============================] - 13s 242ms/step - loss: 0.4191 - accuracy: 0.9133 - val_loss: 1.3413 - val_accuracy: 0.6344\n",
            "Epoch 12/30\n",
            "52/52 [==============================] - 13s 241ms/step - loss: 0.3776 - accuracy: 0.9279 - val_loss: 1.3978 - val_accuracy: 0.6271\n",
            "Epoch 13/30\n",
            "52/52 [==============================] - 13s 242ms/step - loss: 0.3434 - accuracy: 0.9370 - val_loss: 1.3417 - val_accuracy: 0.6344\n",
            "Epoch 14/30\n",
            "52/52 [==============================] - 13s 242ms/step - loss: 0.3091 - accuracy: 0.9521 - val_loss: 1.3711 - val_accuracy: 0.6441\n",
            "Epoch 15/30\n",
            "52/52 [==============================] - 13s 242ms/step - loss: 0.3054 - accuracy: 0.9479 - val_loss: 1.3876 - val_accuracy: 0.6247\n",
            "Epoch 16/30\n",
            "52/52 [==============================] - 13s 242ms/step - loss: 0.2616 - accuracy: 0.9624 - val_loss: 1.4046 - val_accuracy: 0.6513\n",
            "Epoch 17/30\n",
            "52/52 [==============================] - 13s 242ms/step - loss: 0.2355 - accuracy: 0.9776 - val_loss: 1.3868 - val_accuracy: 0.6659\n",
            "Epoch 18/30\n",
            "52/52 [==============================] - 13s 242ms/step - loss: 0.2293 - accuracy: 0.9727 - val_loss: 1.3703 - val_accuracy: 0.6731\n",
            "Epoch 19/30\n",
            "52/52 [==============================] - 13s 242ms/step - loss: 0.2092 - accuracy: 0.9794 - val_loss: 1.4353 - val_accuracy: 0.6538\n",
            "Epoch 20/30\n",
            "52/52 [==============================] - 13s 242ms/step - loss: 0.2203 - accuracy: 0.9727 - val_loss: 1.3980 - val_accuracy: 0.6513\n",
            "Epoch 21/30\n",
            "52/52 [==============================] - 13s 242ms/step - loss: 0.2020 - accuracy: 0.9806 - val_loss: 1.4142 - val_accuracy: 0.6562\n",
            "Epoch 22/30\n",
            "52/52 [==============================] - 13s 242ms/step - loss: 0.1938 - accuracy: 0.9782 - val_loss: 1.4598 - val_accuracy: 0.6610\n",
            "Epoch 23/30\n",
            "52/52 [==============================] - 13s 242ms/step - loss: 0.1812 - accuracy: 0.9836 - val_loss: 1.4418 - val_accuracy: 0.6659\n",
            "Epoch 24/30\n",
            "52/52 [==============================] - 13s 242ms/step - loss: 0.1799 - accuracy: 0.9818 - val_loss: 1.4595 - val_accuracy: 0.6755\n",
            "Epoch 25/30\n",
            "52/52 [==============================] - 13s 242ms/step - loss: 0.1766 - accuracy: 0.9824 - val_loss: 1.4846 - val_accuracy: 0.6441\n",
            "Epoch 26/30\n",
            "52/52 [==============================] - 13s 242ms/step - loss: 0.1589 - accuracy: 0.9885 - val_loss: 1.5410 - val_accuracy: 0.6586\n",
            "Epoch 27/30\n",
            "52/52 [==============================] - 13s 242ms/step - loss: 0.1510 - accuracy: 0.9891 - val_loss: 1.5602 - val_accuracy: 0.6634\n",
            "Epoch 28/30\n",
            "52/52 [==============================] - 13s 242ms/step - loss: 0.1821 - accuracy: 0.9764 - val_loss: 1.4809 - val_accuracy: 0.6392\n",
            "Epoch 29/30\n",
            "52/52 [==============================] - 13s 242ms/step - loss: 0.1474 - accuracy: 0.9933 - val_loss: 1.4744 - val_accuracy: 0.6562\n",
            "Epoch 30/30\n",
            "52/52 [==============================] - 13s 242ms/step - loss: 0.1472 - accuracy: 0.9909 - val_loss: 1.4518 - val_accuracy: 0.6659\n"
          ]
        }
      ]
    },
    {
      "cell_type": "code",
      "source": [
        "loss, accuracy = model.evaluate(x_test, y_test)\n",
        "print(f\"Test Accuracy: {accuracy * 100}%\")#0.6,30"
      ],
      "metadata": {
        "colab": {
          "base_uri": "https://localhost:8080/"
        },
        "id": "Qxs5TTHiAu2P",
        "outputId": "5b3e9e61-e3be-42de-f814-8bc36ca44e77"
      },
      "execution_count": 57,
      "outputs": [
        {
          "output_type": "stream",
          "name": "stdout",
          "text": [
            "13/13 [==============================] - 3s 194ms/step - loss: 1.4518 - accuracy: 0.6659\n",
            "Test Accuracy: 66.5859580039978%\n"
          ]
        }
      ]
    },
    {
      "cell_type": "code",
      "source": [
        "import matplotlib.pyplot as plt\n",
        "\n",
        "# Plot training & validation accuracy values\n",
        "plt.plot(history.history['accuracy'])\n",
        "plt.plot(history.history['val_accuracy'])\n",
        "plt.title('Model accuracy')\n",
        "plt.ylabel('Accuracy')\n",
        "plt.xlabel('Epoch')\n",
        "plt.legend(['Train', 'Test'], loc='upper left')\n",
        "plt.show()\n",
        "\n",
        "# Plot training & validation loss values\n",
        "plt.plot(history.history['loss'])\n",
        "plt.plot(history.history['val_loss'])\n",
        "plt.title('Model loss')\n",
        "plt.ylabel('Loss')\n",
        "plt.xlabel('Epoch')\n",
        "plt.legend(['Train', 'Test'], loc='upper left')\n",
        "plt.show()"
      ],
      "metadata": {
        "colab": {
          "base_uri": "https://localhost:8080/",
          "height": 927
        },
        "id": "VKAwnYHHEZz1",
        "outputId": "5b99f56b-483f-4738-d6a8-3460873a92d7"
      },
      "execution_count": 58,
      "outputs": [
        {
          "output_type": "display_data",
          "data": {
            "text/plain": [
              "<Figure size 640x480 with 1 Axes>"
            ],
            "image/png": "[encoded data removed]"
          },
          "metadata": {}
        },
        {
          "output_type": "display_data",
          "data": {
            "text/plain": [
              "<Figure size 640x480 with 1 Axes>"
            ],
            "image/png": "[encoded data removed]"
          },
          "metadata": {}
        }
      ]
    },
    {
      "cell_type": "code",
      "source": [
        "path = '/content/drive/MyDrive/Colab Notebooks/5002/data/Data_Q3/test_video/'\n",
        "out_x = []\n",
        "filenames = []\n",
        "img_size = (60, 60)  # Adjusted to be consistent with the previous definition\n",
        "frames = 20\n",
        "\n",
        "for filename in os.listdir(path):\n",
        "    if filename.endswith(\".mp4\"):\n",
        "        video_path = os.path.join(path, filename)\n",
        "        video_frames = process_video(video_path, img_size, frames)\n",
        "        filenames.append(filename)\n",
        "        out_x.append(video_frames)\n",
        "\n",
        "out_x = np.array(out_x)"
      ],
      "metadata": {
        "id": "z5Sz1ZCT07Q5"
      },
      "execution_count": 16,
      "outputs": []
    },
    {
      "cell_type": "code",
      "source": [
        "out_x.shape"
      ],
      "metadata": {
        "colab": {
          "base_uri": "https://localhost:8080/"
        },
        "id": "k5clheIB1EHH",
        "outputId": "dc7feae4-20cb-4560-9a9b-59663be9b7f6"
      },
      "execution_count": 17,
      "outputs": [
        {
          "output_type": "execute_result",
          "data": {
            "text/plain": [
              "(562, 20, 60, 60, 3)"
            ]
          },
          "metadata": {},
          "execution_count": 17
        }
      ]
    },
    {
      "cell_type": "code",
      "source": [
        "prediction = model.predict(out_x)\n",
        "prediction=np.argmax(prediction,axis=1)"
      ],
      "metadata": {
        "colab": {
          "base_uri": "https://localhost:8080/"
        },
        "id": "yYO7WyZe1Kmf",
        "outputId": "8492520c-39f7-4d02-d830-88cd05207271"
      },
      "execution_count": 30,
      "outputs": [
        {
          "output_type": "stream",
          "name": "stdout",
          "text": [
            "18/18 [==============================] - 4s 173ms/step\n"
          ]
        }
      ]
    },
    {
      "cell_type": "code",
      "source": [
        "result_df=pd.DataFrame()\n",
        "result_df['file_name'] = filenames\n",
        "result_df['label'] = prediction\n",
        "#result_df"
      ],
      "metadata": {
        "id": "cXNxILtJ1L2H"
      },
      "execution_count": 32,
      "outputs": []
    },
    {
      "cell_type": "code",
      "source": [
        "#result_df.to_csv('Q3_output.csv', index=False)"
      ],
      "metadata": {
        "id": "3LiaChxR1TJ6"
      },
      "execution_count": 33,
      "outputs": []
    },
    {
      "cell_type": "code",
      "source": [],
      "metadata": {
        "id": "u716QbmH5K2M"
      },
      "execution_count": null,
      "outputs": []
    }
  ]
}