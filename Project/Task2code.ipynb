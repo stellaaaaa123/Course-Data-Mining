{
 "cells": [
  {
   "cell_type": "markdown",
   "metadata": {},
   "source": [
    "# Task 2 (50 marks) Application of Knowledge Graph"
   ]
  },
  {
   "cell_type": "markdown",
   "metadata": {},
   "source": [
    "neo4j.bat console"
   ]
  },
  {
   "cell_type": "code",
   "execution_count": 1,
   "metadata": {},
   "outputs": [],
   "source": [
    "from py2neo import Graph, Subgraph, Node, Relationship\n",
    "import pandas as pd\n",
    "from neo4j import GraphDatabase"
   ]
  },
  {
   "cell_type": "code",
   "execution_count": 14,
   "metadata": {},
   "outputs": [
    {
     "name": "stdout",
     "output_type": "stream",
     "text": [
      "Successfully connected to Neo4j!\n"
     ]
    }
   ],
   "source": [
    "user = 'neo4j'\n",
    "password = 'X2d00y1!'\n",
    "uri= 'bolt://localhost:7687'\n",
    "driver = GraphDatabase.driver(uri, auth=(user, password))\n",
    "try:\n",
    "    graph = Graph(\"http://localhost:7474\", auth=(user, password))\n",
    "    print(\"Successfully connected to Neo4j!\")\n",
    "except Exception as e:\n",
    "    print(f\"Error connecting to Neo4j: {e}\")"
   ]
  },
  {
   "cell_type": "code",
   "execution_count": 15,
   "metadata": {},
   "outputs": [
    {
     "name": "stdout",
     "output_type": "stream",
     "text": [
      "图已成功清空。\n"
     ]
    }
   ],
   "source": [
    "session = driver.session()\n",
    "\n",
    "result = session.run(\"MATCH (n) DETACH DELETE n\")\n",
    "\n",
    "print(\"图已成功清空。\")"
   ]
  },
  {
   "cell_type": "markdown",
   "metadata": {},
   "source": [
    "## Question 3: (10 marks) Constructing a Knowledge Graph"
   ]
  },
  {
   "cell_type": "code",
   "execution_count": 16,
   "metadata": {},
   "outputs": [],
   "source": [
    "def batch_create(graph, nodes_list, relations_list):\n",
    "    subgraph = Subgraph(nodes_list, relations_list)\n",
    "    tx_ = graph.begin()\n",
    "    tx_.create(subgraph)\n",
    "    graph.commit(tx_)"
   ]
  },
  {
   "cell_type": "code",
   "execution_count": null,
   "metadata": {},
   "outputs": [],
   "source": [
    "nodes_list = []\n",
    "with open(r\"C:\\Users\\CANDY\\Desktop\\to do\\作业\\dsaa5002_project\\KnowledgeGraph\\hidy.nodes.company.csv\", \"r\",encoding=\"utf-8\") as node_file:\n",
    "    next(node_file)  # 跳过标题行\n",
    "    for line in node_file:\n",
    "        node_data = line.strip().split(\",\")\n",
    "        node_id, company_name, code, label = node_data\n",
    "        print(node_id,company_name)\n",
    "        nodes_list.append(Node(\"Company\", id=int(node_id), name=company_name, code=code))\n",
    "\n",
    "#len(nodes_list)##3974\n",
    "batch_create(graph, nodes_list, [])"
   ]
  },
  {
   "cell_type": "code",
   "execution_count": 19,
   "metadata": {},
   "outputs": [],
   "source": [
    "def relation(name):\n",
    "    relationlist=[]\n",
    "    path = r\"C:\\Users\\CANDY\\Desktop\\to do\\作业\\dsaa5002_project\\KnowledgeGraph\\hidy.relationships.{}.csv\".format(name)\n",
    "    with open(path, \"r\") as relationship_file:\n",
    "        next(relationship_file)  # 跳过标题行\n",
    "        for line in relationship_file:\n",
    "            relationship_data = line.strip().split(\",\")[:3]\n",
    "            #start_id, end_id, relation_type = relationship_data\n",
    "            start_id, end_id = relationship_data\n",
    "            start_node = graph.nodes.match(id=int(start_id)).first()\n",
    "            end_node = graph.nodes.match(id=int(end_id)).first()\n",
    "            \n",
    "            relationlist.append(Relationship(start_node, name,end_node))\n",
    "    batch_create(graph, [], relationlist)\n",
    "    print(name,len(relationlist))"
   ]
  },
  {
   "cell_type": "code",
   "execution_count": 20,
   "metadata": {},
   "outputs": [
    {
     "name": "stdout",
     "output_type": "stream",
     "text": [
      "compete 25\n",
      "cooperate 3603\n",
      "dispute 439\n",
      "invest 559\n",
      "same_industry 5596\n",
      "supply 1444\n"
     ]
    }
   ],
   "source": [
    "relation(\"compete\")\n",
    "relation(\"cooperate\")\n",
    "relation(\"dispute\")\n",
    "relation(\"invest\")\n",
    "relation(\"same_industry\")\n",
    "relation(\"supply\")"
   ]
  },
  {
   "cell_type": "code",
   "execution_count": 1,
   "metadata": {},
   "outputs": [
    {
     "ename": "NameError",
     "evalue": "name 'driver' is not defined",
     "output_type": "error",
     "traceback": [
      "\u001b[1;31m---------------------------------------------------------------------------\u001b[0m",
      "\u001b[1;31mNameError\u001b[0m                                 Traceback (most recent call last)",
      "\u001b[1;32mc:\\Users\\CANDY\\Desktop\\Task2.ipynb 单元格 11\u001b[0m line \u001b[0;36m1\n\u001b[1;32m----> <a href='vscode-notebook-cell:/c%3A/Users/CANDY/Desktop/Task2.ipynb#X13sZmlsZQ%3D%3D?line=0'>1</a>\u001b[0m driver\u001b[39m.\u001b[39mclose()\n",
      "\u001b[1;31mNameError\u001b[0m: name 'driver' is not defined"
     ]
    }
   ],
   "source": [
    "driver.close()"
   ]
  },
  {
   "cell_type": "markdown",
   "metadata": {},
   "source": [
    "## Question 4 (20 marks): Knowledge-Driven Financial Analysis"
   ]
  },
  {
   "cell_type": "code",
   "execution_count": 94,
   "metadata": {},
   "outputs": [],
   "source": [
    "import pandas as pd\n",
    "\n",
    "# 读取数据\n",
    "task1 = pd.read_excel(r\"C:\\Users\\CANDY\\Desktop\\to do\\作业\\dsaa5002_project\\Task1.xlsx\")\n",
    "company_df = pd.read_csv(r\"C:\\Users\\CANDY\\Desktop\\to do\\作业\\dsaa5002_project\\KnowledgeGraph\\hidy.nodes.company.csv\", encoding=\"utf-8\")\n",
    "relations = ['compete', 'cooperate', 'dispute', 'invest', 'same_industry', 'supply']\n",
    "relation_dfs = [pd.read_csv(r'C:\\Users\\CANDY\\Desktop\\to do\\作业\\dsaa5002_project\\KnowledgeGraph\\hidy.relationships.{}.csv'.format(rel), encoding=\"utf-8\") for rel in relations]\n"
   ]
  },
  {
   "cell_type": "code",
   "execution_count": null,
   "metadata": {},
   "outputs": [],
   "source": [
    "result_columns = ['NewsID', 'NewsContent', 'Explicit_Company', 'label', 'Implicit_Positive_Company',\n",
    "                  'Implicit_Negative_Company']"
   ]
  },
  {
   "cell_type": "code",
   "execution_count": 177,
   "metadata": {},
   "outputs": [],
   "source": [
    "def process_relation(row, relation_df, company_df):\n",
    "    relation_type = relation_df[':TYPE'].unique()[0]  # 获取关系类型\n",
    "    explicit_companies = row['Explicit_Company'].split(',')  # 将多个公司分隔成列表\n",
    "    matched_ids = []\n",
    "\n",
    "    # 在company_df中查找与explicit_companies匹配的ID\n",
    "    for company in explicit_companies:\n",
    "        matched_ids.extend(company_df.loc[company_df['company_name'] == company, ':ID'].tolist())\n",
    "\n",
    "    # 在relation_df中过滤与匹配的ID相关的关系\n",
    "    related_ids = relation_df.loc[relation_df[':START_ID'].isin(matched_ids), ':END_ID'].tolist()\n",
    "    related_ids.extend(relation_df.loc[relation_df[':END_ID'].isin(matched_ids), ':START_ID'].tolist())\n",
    "    related_ids = list(set(related_ids))\n",
    "\n",
    "    # 判断关系类型并处理对应的公司\n",
    "    related_companies = company_df.loc[company_df[':ID'].isin(related_ids), 'company_name'].tolist()\n",
    "    if row['label'] == 1:\n",
    "        if relation_type in ['same_industry', 'cooperate', 'invest', 'supply']:\n",
    "            row['Implicit_Positive_Company'].extend(related_companies)\n",
    "        elif relation_type in ['compete', 'dispute']:\n",
    "            row['Implicit_Negative_Company'].extend(related_companies)\n",
    "    elif row['label'] == 0:\n",
    "        if relation_type in ['same_industry', 'cooperate', 'invest', 'supply']:\n",
    "            row['Implicit_Negative_Company'].extend(related_companies)\n",
    "        elif relation_type in ['compete', 'dispute']:\n",
    "            row['Implicit_Positive_Company'].extend(related_companies)\n",
    "    return row"
   ]
  },
  {
   "cell_type": "code",
   "execution_count": 181,
   "metadata": {},
   "outputs": [],
   "source": [
    "def process_row(row):\n",
    "    implicit_positive_companies = []\n",
    "    implicit_negative_companies = []\n",
    "\n",
    "    for relation_df in relation_dfs:\n",
    "        row['Implicit_Positive_Company'] = implicit_positive_companies\n",
    "        row['Implicit_Negative_Company'] = implicit_negative_companies\n",
    "        row = process_relation(row, relation_df, company_df)\n",
    "\n",
    "    implicit_positive_companies = list(set(row['Implicit_Positive_Company']))\n",
    "    implicit_negative_companies = list(set(row['Implicit_Negative_Company']))\n",
    "\n",
    "    result_row = pd.Series([row['NewsID'], row['NewsContent'], row['Explicit_Company'], row['label'],\n",
    "                            ','.join(implicit_positive_companies) if implicit_positive_companies else None,\n",
    "                            ','.join(implicit_negative_companies) if implicit_negative_companies else None],\n",
    "                          index=result_columns)\n",
    "\n",
    "    return result_row"
   ]
  },
  {
   "cell_type": "code",
   "execution_count": null,
   "metadata": {},
   "outputs": [],
   "source": [
    "# 使用apply方法处理每一行\n",
    "result = task1.apply(lambda row: process_row(row), axis=1)\n",
    "\n",
    "# 将结果数据框的列名改为result_columns\n",
    "\n",
    "result.columns = result_columns"
   ]
  },
  {
   "cell_type": "code",
   "execution_count": 182,
   "metadata": {},
   "outputs": [
    {
     "data": {
      "text/html": [
       "<div>\n",
       "<style scoped>\n",
       "    .dataframe tbody tr th:only-of-type {\n",
       "        vertical-align: middle;\n",
       "    }\n",
       "\n",
       "    .dataframe tbody tr th {\n",
       "        vertical-align: top;\n",
       "    }\n",
       "\n",
       "    .dataframe thead th {\n",
       "        text-align: right;\n",
       "    }\n",
       "</style>\n",
       "<table border=\"1\" class=\"dataframe\">\n",
       "  <thead>\n",
       "    <tr style=\"text-align: right;\">\n",
       "      <th></th>\n",
       "      <th>NewsID</th>\n",
       "      <th>NewsContent</th>\n",
       "      <th>Explicit_Company</th>\n",
       "      <th>label</th>\n",
       "      <th>Implicit_Positive_Company</th>\n",
       "      <th>Implicit_Negative_Company</th>\n",
       "    </tr>\n",
       "  </thead>\n",
       "  <tbody>\n",
       "    <tr>\n",
       "      <th>0</th>\n",
       "      <td>1</td>\n",
       "      <td>本报记者 田雨 李京华 中国建设银行股份有限公司原董事长张恩照受贿案３日一审宣判，北京市第...</td>\n",
       "      <td>建设银行</td>\n",
       "      <td>0</td>\n",
       "      <td>捷捷微电,任子行</td>\n",
       "      <td>交通银行,佳都科技,中国石化,我爱我家,晨鸣纸业,贵州茅台,中信银行,南天信息,特发信息,中...</td>\n",
       "    </tr>\n",
       "    <tr>\n",
       "      <th>1</th>\n",
       "      <td>2</td>\n",
       "      <td>中国农业银行信用卡中心由北京搬到上海了！ 农行行长杨明生日前在信用卡中心揭牌仪式上表示，此...</td>\n",
       "      <td>农业银行</td>\n",
       "      <td>1</td>\n",
       "      <td>交通银行,神州信息,润建股份,牧原股份,紫金银行,南天信息,中信银行,东方财富,优博讯,神州...</td>\n",
       "      <td>ST云维</td>\n",
       "    </tr>\n",
       "    <tr>\n",
       "      <th>2</th>\n",
       "      <td>3</td>\n",
       "      <td>在新基金快速发行以及申购资金回流的情况下，市场总体上呈现资金流动性过剩格局，考虑到现阶段权...</td>\n",
       "      <td>中国国航</td>\n",
       "      <td>1</td>\n",
       "      <td>中国电建,南方航空,兴业证券,寒武纪,中国石化,吉祥航空,山航B,春秋航空,中国卫通,农业银...</td>\n",
       "      <td>None</td>\n",
       "    </tr>\n",
       "    <tr>\n",
       "      <th>3</th>\n",
       "      <td>4</td>\n",
       "      <td>胜利股份（000407）公司子公司填海造地2800亩，以青岛的地价估算，静态价值在10亿元...</td>\n",
       "      <td>胜利股份</td>\n",
       "      <td>1</td>\n",
       "      <td>新疆浩源,特锐德</td>\n",
       "      <td>None</td>\n",
       "    </tr>\n",
       "    <tr>\n",
       "      <th>4</th>\n",
       "      <td>8</td>\n",
       "      <td>由于全球最大的俄罗斯Uralkaly钾矿被淹，产量大减，同时满洲里口岸铁路在修复线，导致中...</td>\n",
       "      <td>冠农股份,雅化集团</td>\n",
       "      <td>1</td>\n",
       "      <td>富邦股份,东华科技,天齐锂业,立讯精密,南宁百货,永兴材料,宁德时代,西部黄金,藏格控股,德...</td>\n",
       "      <td>None</td>\n",
       "    </tr>\n",
       "    <tr>\n",
       "      <th>...</th>\n",
       "      <td>...</td>\n",
       "      <td>...</td>\n",
       "      <td>...</td>\n",
       "      <td>...</td>\n",
       "      <td>...</td>\n",
       "      <td>...</td>\n",
       "    </tr>\n",
       "    <tr>\n",
       "      <th>396376</th>\n",
       "      <td>1037031</td>\n",
       "      <td>每经AI快讯，有投资者在投资者互动平台提问：请问公司目前有没有电解槽产能，规划情况能否详细介...</td>\n",
       "      <td>亿华通</td>\n",
       "      <td>1</td>\n",
       "      <td>福田汽车,东风汽车,仕佳光子,飞龙股份,百奥泰,宝泰隆,中国船舶,东旭光电</td>\n",
       "      <td>None</td>\n",
       "    </tr>\n",
       "    <tr>\n",
       "      <th>396377</th>\n",
       "      <td>1037032</td>\n",
       "      <td>依米康（SZ 300249，收盘价：10.38元）发布公告称，2023年10月12日，依米康...</td>\n",
       "      <td>中泰证券</td>\n",
       "      <td>1</td>\n",
       "      <td>贵州茅台,乐歌股份,光大证券,璞泰来,涪陵榨菜,中金公司,翔丰华,长江证券,东方证券,金融街...</td>\n",
       "      <td>西水股份,华谊嘉信</td>\n",
       "    </tr>\n",
       "    <tr>\n",
       "      <th>396378</th>\n",
       "      <td>1037033</td>\n",
       "      <td>天风证券10月13日发布研报称，给予中核科技（000777.SZ，最新价：13.03元）买入...</td>\n",
       "      <td>中核科技,天风证券</td>\n",
       "      <td>1</td>\n",
       "      <td>国信证券,人福医药,复旦微电,久远银海,中科软,中金公司,长江证券,西南证券,建龙微纳,华泰...</td>\n",
       "      <td>吉翔股份,三特索道,中源家居</td>\n",
       "    </tr>\n",
       "    <tr>\n",
       "      <th>396379</th>\n",
       "      <td>1037034</td>\n",
       "      <td>有投资者提问：抗癌药CPT获批后，公司是否应该按照股权协议继续收购沙东股权，适应症为MM的C...</td>\n",
       "      <td>海特生物</td>\n",
       "      <td>1</td>\n",
       "      <td>海尔生物,药明康德</td>\n",
       "      <td>None</td>\n",
       "    </tr>\n",
       "    <tr>\n",
       "      <th>396380</th>\n",
       "      <td>1037035</td>\n",
       "      <td>10月13日午间，根据恩捷股份发布的公告，持有公司股份5%以上的股东玉溪合益投资有限公司（下...</td>\n",
       "      <td>恩捷股份</td>\n",
       "      <td>1</td>\n",
       "      <td>福耀玻璃,太平洋证券,德尔股份,平安银行,天赐材料,宁德时代,文科园林,云南白药,中兴通讯,...</td>\n",
       "      <td>None</td>\n",
       "    </tr>\n",
       "  </tbody>\n",
       "</table>\n",
       "<p>396381 rows × 6 columns</p>\n",
       "</div>"
      ],
      "text/plain": [
       "         NewsID                                        NewsContent  \\\n",
       "0             1   本报记者 田雨 李京华 中国建设银行股份有限公司原董事长张恩照受贿案３日一审宣判，北京市第...   \n",
       "1             2   中国农业银行信用卡中心由北京搬到上海了！ 农行行长杨明生日前在信用卡中心揭牌仪式上表示，此...   \n",
       "2             3   在新基金快速发行以及申购资金回流的情况下，市场总体上呈现资金流动性过剩格局，考虑到现阶段权...   \n",
       "3             4   胜利股份（000407）公司子公司填海造地2800亩，以青岛的地价估算，静态价值在10亿元...   \n",
       "4             8   由于全球最大的俄罗斯Uralkaly钾矿被淹，产量大减，同时满洲里口岸铁路在修复线，导致中...   \n",
       "...         ...                                                ...   \n",
       "396376  1037031  每经AI快讯，有投资者在投资者互动平台提问：请问公司目前有没有电解槽产能，规划情况能否详细介...   \n",
       "396377  1037032  依米康（SZ 300249，收盘价：10.38元）发布公告称，2023年10月12日，依米康...   \n",
       "396378  1037033  天风证券10月13日发布研报称，给予中核科技（000777.SZ，最新价：13.03元）买入...   \n",
       "396379  1037034  有投资者提问：抗癌药CPT获批后，公司是否应该按照股权协议继续收购沙东股权，适应症为MM的C...   \n",
       "396380  1037035  10月13日午间，根据恩捷股份发布的公告，持有公司股份5%以上的股东玉溪合益投资有限公司（下...   \n",
       "\n",
       "       Explicit_Company  label  \\\n",
       "0                  建设银行      0   \n",
       "1                  农业银行      1   \n",
       "2                  中国国航      1   \n",
       "3                  胜利股份      1   \n",
       "4             冠农股份,雅化集团      1   \n",
       "...                 ...    ...   \n",
       "396376              亿华通      1   \n",
       "396377             中泰证券      1   \n",
       "396378        中核科技,天风证券      1   \n",
       "396379             海特生物      1   \n",
       "396380             恩捷股份      1   \n",
       "\n",
       "                                Implicit_Positive_Company  \\\n",
       "0                                                捷捷微电,任子行   \n",
       "1       交通银行,神州信息,润建股份,牧原股份,紫金银行,南天信息,中信银行,东方财富,优博讯,神州...   \n",
       "2       中国电建,南方航空,兴业证券,寒武纪,中国石化,吉祥航空,山航B,春秋航空,中国卫通,农业银...   \n",
       "3                                                新疆浩源,特锐德   \n",
       "4       富邦股份,东华科技,天齐锂业,立讯精密,南宁百货,永兴材料,宁德时代,西部黄金,藏格控股,德...   \n",
       "...                                                   ...   \n",
       "396376              福田汽车,东风汽车,仕佳光子,飞龙股份,百奥泰,宝泰隆,中国船舶,东旭光电   \n",
       "396377  贵州茅台,乐歌股份,光大证券,璞泰来,涪陵榨菜,中金公司,翔丰华,长江证券,东方证券,金融街...   \n",
       "396378  国信证券,人福医药,复旦微电,久远银海,中科软,中金公司,长江证券,西南证券,建龙微纳,华泰...   \n",
       "396379                                          海尔生物,药明康德   \n",
       "396380  福耀玻璃,太平洋证券,德尔股份,平安银行,天赐材料,宁德时代,文科园林,云南白药,中兴通讯,...   \n",
       "\n",
       "                                Implicit_Negative_Company  \n",
       "0       交通银行,佳都科技,中国石化,我爱我家,晨鸣纸业,贵州茅台,中信银行,南天信息,特发信息,中...  \n",
       "1                                                    ST云维  \n",
       "2                                                    None  \n",
       "3                                                    None  \n",
       "4                                                    None  \n",
       "...                                                   ...  \n",
       "396376                                               None  \n",
       "396377                                          西水股份,华谊嘉信  \n",
       "396378                                     吉翔股份,三特索道,中源家居  \n",
       "396379                                               None  \n",
       "396380                                               None  \n",
       "\n",
       "[396381 rows x 6 columns]"
      ]
     },
     "execution_count": 182,
     "metadata": {},
     "output_type": "execute_result"
    }
   ],
   "source": [
    "result"
   ]
  },
  {
   "cell_type": "code",
   "execution_count": 183,
   "metadata": {},
   "outputs": [],
   "source": [
    "result.to_excel(r\"C:\\Users\\CANDY\\Desktop\\to do\\作业\\dsaa5002_project\\Task2.xlsx\", index=False)"
   ]
  },
  {
   "cell_type": "code",
   "execution_count": 184,
   "metadata": {},
   "outputs": [],
   "source": [
    "import pandas as pd\n",
    "\n",
    "# 假设您的DataFrame名为result\n",
    "\n",
    "# 将\"None\"值替换为\"None\"字符串\n",
    "result_filled = result.fillna(\"None\")\n",
    "\n",
    "# 保存DataFrame为Excel文件，并指定index=False以避免保存索引列\n",
    "result_filled.to_excel(r\"C:\\Users\\CANDY\\Desktop\\to do\\作业\\dsaa5002_project\\Task3.xlsx\", index=False)"
   ]
  },
  {
   "cell_type": "code",
   "execution_count": null,
   "metadata": {},
   "outputs": [],
   "source": []
  }
 ],
 "metadata": {
  "kernelspec": {
   "display_name": "test2",
   "language": "python",
   "name": "python3"
  },
  "language_info": {
   "codemirror_mode": {
    "name": "ipython",
    "version": 3
   },
   "file_extension": ".py",
   "mimetype": "text/x-python",
   "name": "python",
   "nbconvert_exporter": "python",
   "pygments_lexer": "ipython3",
   "version": "3.8.18"
  }
 },
 "nbformat": 4,
 "nbformat_minor": 2
}
